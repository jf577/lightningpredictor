{
 "cells": [
  {
   "cell_type": "code",
   "execution_count": 2,
   "metadata": {},
   "outputs": [],
   "source": [
    "import pandas as pd\r\n",
    "import geopandas as gpd\r\n",
    "import matplotlib.pyplot as plt\r\n",
    "import seaborn as sns\r\n",
    "import folium\r\n",
    "from folium.plugins import MarkerCluster"
   ]
  },
  {
   "cell_type": "code",
   "execution_count": 5,
   "metadata": {},
   "outputs": [],
   "source": [
    "# loading data\r\n",
    "# strike_data = gpd.read_file('data/groundstrikes-byregion-csv/lightning-groundstrikes-by-region.csv')\r\n",
    "# nz_coast = gpd.read_file('data/coastlines-csv/nz-coastlines-topo-150k.csv')"
   ]
  },
  {
   "cell_type": "code",
   "execution_count": null,
   "metadata": {},
   "outputs": [],
   "source": [
    "\r\n",
    "# taking a look at data structure\r\n",
    "strike_data.head(10)"
   ]
  },
  {
   "cell_type": "code",
   "execution_count": null,
   "metadata": {},
   "outputs": [],
   "source": [
    "# taking a look at the raw data\r\n",
    "fig, ax = plt.subplots(figsize=(20, 10))\r\n",
    "nz_coast.plot(ax=ax, alpha=1, color='black')\r\n",
    "strike_data.plot(ax=ax, alpha=0.1, markersize=0.05, color='blue')"
   ]
  },
  {
   "cell_type": "code",
   "execution_count": null,
   "metadata": {},
   "outputs": [],
   "source": [
    "MONTHS = ['January', 'February', 'March', 'April', 'May', 'June', \r\n",
    "          'July', 'August', 'September', 'October', 'November', 'December']\r\n",
    "WELLINGTON = [-41.2867, 174.7730]\r\n",
    "DEFAULT_ZOOM = 5\r\n",
    "\r\n",
    "strike_map = folium.Map(location=WELLINGTON, zoom_start=DEFAULT_ZOOM, control_scale=True)\r\n",
    "\r\n",
    "folium.TileLayer('stamenterrain').add_to(strike_map)\r\n",
    "\r\n",
    "strike_cluster_fg = folium.FeatureGroup(name='Lightning Strike Events', show=True)\r\n",
    "marker_cluster = MarkerCluster().add_to(strike_cluster_fg)\r\n",
    "\r\n",
    "for indice, row in strike_data.iterrows():\r\n",
    "    popup_str = ('Event Time: {} {}<br>Region: {}<br>District: {}'\r\n",
    "                 .format(MONTHS[row['Month'] - 1], row['Year'], row['REGC2015_V1_00_NAME'], row['TA2014_V1_01_NAME']))\r\n",
    "    iframe = folium.IFrame(popup_str, width=300, height=150)\r\n",
    "    popup = folium.Popup(iframe)\r\n",
    "    marker = folium.Circle(location=[row['GEOMETRY_X'], row['GEOMETRY_Y']], color='blue', \r\n",
    "                           fill=True, radius=0.05, popup=popup)\r\n",
    "    marker.add_to(marker_cluster)\r\n",
    "\r\n",
    "strike_map.add_child(strike_cluster_fg)\r\n",
    "\r\n",
    "folium.LayerControl().add_to(strike_map)\r\n",
    "\r\n",
    "strike_map"
   ]
  },
  {
   "cell_type": "code",
   "execution_count": null,
   "metadata": {},
   "outputs": [],
   "source": [
    "strike_map\r\n"
   ]
  },
  {
   "cell_type": "code",
   "execution_count": null,
   "metadata": {},
   "outputs": [],
   "source": [
    "\r\n",
    "# create axes\r\n",
    "fig, ax = plt.subplots(figsize=(20, 10))\r\n",
    "\r\n",
    "# kde plot\r\n",
    "strike_density = sns.kdeplot(\r\n",
    "                    strike_data['GEOMETRY_X'],\r\n",
    "                    strike_data['GEOMETRY_Y'],\r\n",
    "                    shade=True,\r\n",
    "                    alpha=1,\r\n",
    "                    cmap='viridis',\r\n",
    "                    shade_lowest=False)"
   ]
  },
  {
   "cell_type": "code",
   "execution_count": null,
   "metadata": {},
   "outputs": [],
   "source": [
    "plt.plot(strike_density)\r\n"
   ]
  },
  {
   "cell_type": "code",
   "execution_count": null,
   "metadata": {},
   "outputs": [],
   "source": [
    "# "
   ]
  }
 ],
 "metadata": {
  "interpreter": {
   "hash": "dd91f0b4828dce5d53bdac1582cf88369020ea09ea70cc87beaca0f6a0fe11cd"
  },
  "kernelspec": {
   "display_name": "Python 3.9.2 64-bit ('geo_env': conda)",
   "name": "python3"
  },
  "language_info": {
   "name": "python",
   "version": ""
  },
  "orig_nbformat": 4
 },
 "nbformat": 4,
 "nbformat_minor": 2
}